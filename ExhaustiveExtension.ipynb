{
 "cells": [
  {
   "cell_type": "code",
   "execution_count": 1,
   "id": "4fdb66ac-5e35-4d2b-b44a-4888c4bf1658",
   "metadata": {
    "execution": {
     "iopub.execute_input": "2024-11-26T16:57:32.715678Z",
     "iopub.status.busy": "2024-11-26T16:57:32.715115Z",
     "iopub.status.idle": "2024-11-26T16:57:33.126604Z",
     "shell.execute_reply": "2024-11-26T16:57:33.126243Z",
     "shell.execute_reply.started": "2024-11-26T16:57:32.715637Z"
    }
   },
   "outputs": [],
   "source": [
    "from algorithm import Algorithm\n",
    "from sage.crypto.sboxes import sboxes, monomial_function\n",
    "from disjoint_set_union import RangeDSU_with_min\n",
    "import copy\n",
    "from collections import Counter"
   ]
  },
  {
   "cell_type": "code",
   "execution_count": 2,
   "id": "137f73e7-f9e2-4525-8961-c305815f1cce",
   "metadata": {
    "execution": {
     "iopub.execute_input": "2024-11-26T16:57:37.069335Z",
     "iopub.status.busy": "2024-11-26T16:57:37.069156Z",
     "iopub.status.idle": "2024-11-26T16:57:37.074497Z",
     "shell.execute_reply": "2024-11-26T16:57:37.074081Z",
     "shell.execute_reply.started": "2024-11-26T16:57:37.069325Z"
    }
   },
   "outputs": [],
   "source": [
    "def ExhaustiveExtension(Alg, depth=1, LSx=(0,), LS=(0,), a=None, ddt2=None, cliques_above=None, cliques=None, cosets=None, LB=None):\n",
    "    n = Alg.n\n",
    "    m = Alg.m\n",
    "    S = Alg.S\n",
    "    global sols\n",
    "    global leaves\n",
    "\n",
    "    if a == None:\n",
    "        sols = []\n",
    "        leaves = Counter()\n",
    "        for i in range(2**(n-1)):\n",
    "            ExhaustiveExtension(Alg,a=i,LB=LB)\n",
    "        return\n",
    "\n",
    "    if depth == 1:\n",
    "        cliques = RangeDSU_with_min(2**n)\n",
    "        cliques_above = list(reversed(range(a+1,2**n)))\n",
    "        ddt2 = Alg.compute_kddt(k=2)    \n",
    "        if LB is not None:\n",
    "            cosets = RangeDSU_with_min(2**n)\n",
    "\n",
    "    if depth < n:\n",
    "        a_max = 2**n-2**(n-1-depth)\n",
    "    else:\n",
    "        a_max = 2**n        \n",
    "\n",
    "    while cliques_above:\n",
    "        \n",
    "        a_new = cliques_above.pop()\n",
    "        \n",
    "        if a_new >= a_max:\n",
    "            break\n",
    "            \n",
    "        if (dx0 := a_new ^ a) in LSx:\n",
    "            continue\n",
    "\n",
    "        dy0 = S[a_new] ^ S[a]               \n",
    "        dxdy0 = (dx0 << m) | dy0    \n",
    "        \n",
    "        cliques_new = copy.deepcopy(cliques)\n",
    "        LS_new = set(LS)\n",
    "        if LB is not None:\n",
    "            cosets_new = copy.deepcopy(cosets)\n",
    "        \n",
    "        #merge cliques\n",
    "        to_delete = set()\n",
    "        for dxdy in LS:\n",
    "            dxdy ^= dxdy0  \n",
    "            LS_new.add(dxdy)\n",
    "            for x1, x2 in ddt2[dxdy >> m][dxdy & (2**m-1)]:\n",
    "                cliques_new.union(x1, x2)\n",
    "                min1 = cliques.min(x1)\n",
    "                min2 = cliques.min(x2)\n",
    "                to_delete.add(max(min1,min2))\n",
    "\n",
    "        cliques_above_new = [cl for cl in cliques_above if cl not in to_delete]\n",
    "\n",
    "        if LB is not None:\n",
    "            # merge cosets\n",
    "            for coset in cosets_new.components():\n",
    "                cosets_new.union(coset, coset ^ dx0)\n",
    "            \n",
    "            max_cl_new = {}\n",
    "            for cl in cliques_above_new + [a]:\n",
    "                sz = cliques_new.size(cl)\n",
    "                coset = cosets_new.find(cl)\n",
    "                max_cl_new[coset] = max(sz, max_cl_new.get(coset,0))\n",
    "            sum_max = sum(max_cl_new.values())\n",
    "\n",
    "            if sum_max < LB:\n",
    "                leaves[depth] += 1\n",
    "                continue\n",
    "        \n",
    "        LSx_new = set(LSx) | {v ^ dx0 for v in LSx}\n",
    "\n",
    "        if depth == n:\n",
    "            leaves[depth] += 1\n",
    "            cl = cliques_new.ec(a_new)\n",
    "            sols.append(tuple(cl))\n",
    "\n",
    "        else:\n",
    "            if LB is not None:\n",
    "                ExhaustiveExtension(Alg, depth+1, LSx_new, LS_new, a_new, ddt2, cliques_above_new, cliques_new, cosets_new, LB)\n",
    "            if LB is None:\n",
    "                ExhaustiveExtension(Alg, depth+1, LSx_new, LS_new, a_new, ddt2, cliques_above_new, cliques_new, None, LB)"
   ]
  },
  {
   "cell_type": "code",
   "execution_count": 3,
   "id": "dad78c81-c299-4e90-9f2a-2b614c023680",
   "metadata": {
    "execution": {
     "iopub.execute_input": "2024-11-26T16:57:38.187625Z",
     "iopub.status.busy": "2024-11-26T16:57:38.187206Z",
     "iopub.status.idle": "2024-11-26T16:57:38.194564Z",
     "shell.execute_reply": "2024-11-26T16:57:38.193817Z",
     "shell.execute_reply.started": "2024-11-26T16:57:38.187593Z"
    }
   },
   "outputs": [],
   "source": [
    "def evaluation(Alg,k):        # set k to an integer (reasonably at least n+2) or None\n",
    "    ExhaustiveExtension(Alg,LB=k)\n",
    "    distr = Counter(map(len,sols))\n",
    "    if len(distr) != 0:\n",
    "        print(\"vectorial linearity:\", max(distr))\n",
    "        print(\"number of affine approximations with at least\", k, \"common points:\", len(sols))\n",
    "        for a in sorted(distr.keys()):\n",
    "            print(\"number of affine approximations with\", a, \"common points:\", distr[a])\n",
    "        print(\"number of leaves:\", sum(leaves.values()))\n",
    "        for l in sorted(leaves.keys()):\n",
    "            print(\"number of leaves in depth \", l,\": \",leaves[l],  sep='')\n",
    "        print(\"one solution with\", max(distr), \"common points:\", sols[0])\n",
    "    else:\n",
    "        print(\"vectorial linearity smaller than\", k)"
   ]
  },
  {
   "cell_type": "code",
   "execution_count": 4,
   "id": "734c7630-14fc-47d5-aa17-3cb9913bcf76",
   "metadata": {
    "execution": {
     "iopub.execute_input": "2024-11-26T16:57:39.450832Z",
     "iopub.status.busy": "2024-11-26T16:57:39.450353Z",
     "iopub.status.idle": "2024-11-26T16:57:39.458456Z",
     "shell.execute_reply": "2024-11-26T16:57:39.456936Z",
     "shell.execute_reply.started": "2024-11-26T16:57:39.450795Z"
    }
   },
   "outputs": [],
   "source": [
    "n = 5\n",
    "S = sboxes['Ascon']\n",
    "Alg = Algorithm(S,n,n)"
   ]
  },
  {
   "cell_type": "code",
   "execution_count": 5,
   "id": "76baa41d-fdda-42e0-9c15-725659d7f1de",
   "metadata": {
    "execution": {
     "iopub.execute_input": "2024-11-26T16:57:40.109698Z",
     "iopub.status.busy": "2024-11-26T16:57:40.109254Z",
     "iopub.status.idle": "2024-11-26T16:57:40.732140Z",
     "shell.execute_reply": "2024-11-26T16:57:40.731771Z",
     "shell.execute_reply.started": "2024-11-26T16:57:40.109657Z"
    }
   },
   "outputs": [
    {
     "name": "stdout",
     "output_type": "stream",
     "text": [
      "vectorial linearity: 11\n",
      "number of affine approximations with at least 11 common points: 32\n",
      "number of affine approximations with 11 common points: 32\n",
      "number of leaves: 8657\n",
      "number of leaves in depth 1: 35\n",
      "number of leaves in depth 2: 2251\n",
      "number of leaves in depth 3: 4952\n",
      "number of leaves in depth 4: 1169\n",
      "number of leaves in depth 5: 250\n",
      "one solution with 11 common points: (0, 1, 2, 4, 5, 12, 14, 17, 18, 21, 29)\n"
     ]
    }
   ],
   "source": [
    "evaluation(Alg,11)"
   ]
  }
 ],
 "metadata": {
  "kernelspec": {
   "display_name": "venv",
   "language": "python",
   "name": "venv"
  },
  "language_info": {
   "codemirror_mode": {
    "name": "ipython",
    "version": 3
   },
   "file_extension": ".py",
   "mimetype": "text/x-python",
   "name": "python",
   "nbconvert_exporter": "python",
   "pygments_lexer": "ipython3",
   "version": "3.12.7"
  }
 },
 "nbformat": 4,
 "nbformat_minor": 5
}
